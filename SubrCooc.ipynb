{
 "cells": [
  {
   "cell_type": "code",
   "execution_count": 1,
   "metadata": {},
   "outputs": [],
   "source": [
    "import pandas as pd\n",
    "import csv, gzip, json\n",
    "import seaborn as sb\n",
    "from collections import defaultdict\n",
    "from collections import Counter\n",
    "import matplotlib.pyplot as plt\n",
    "import numpy as np\n",
    "import math\n",
    "import random\n",
    "import glob\n",
    "from nltk.tokenize import word_tokenize\n",
    "from nltk.corpus import stopwords\n",
    "from string import digits\n",
    "import re\n",
    "from random import seed\n",
    "import os, gzip, json\n",
    "from itertools import islice, izip\n",
    "import codecs\n",
    "from collections import defaultdict, Counter\n",
    "from itertools import combinations\n",
    "from scipy.sparse import csr_matrix\n",
    "import scipy as sp\n",
    "import numpy as np\n",
    "from sklearn.manifold import TSNE\n",
    "from sklearn.decomposition import PCA"
   ]
  },
  {
   "cell_type": "code",
   "execution_count": 2,
   "metadata": {},
   "outputs": [
    {
     "name": "stderr",
     "output_type": "stream",
     "text": [
      "/usr/local/lib/python2.7/dist-packages/ipykernel_launcher.py:106: RuntimeWarning: divide by zero encountered in log2\n"
     ]
    },
    {
     "name": "stdout",
     "output_type": "stream",
     "text": [
      "21.9116033778\n",
      "-inf\n",
      "22.8811057434\n",
      "-inf\n"
     ]
    },
    {
     "name": "stderr",
     "output_type": "stream",
     "text": [
      "/usr/local/lib/python2.7/dist-packages/numpy/core/fromnumeric.py:2909: RuntimeWarning: Mean of empty slice.\n",
      "  out=out, **kwargs)\n",
      "/usr/local/lib/python2.7/dist-packages/numpy/core/_methods.py:80: RuntimeWarning: invalid value encountered in double_scalars\n",
      "  ret = ret.dtype.type(ret / rcount)\n"
     ]
    },
    {
     "name": "stdout",
     "output_type": "stream",
     "text": [
      "23.4327992889\n",
      "-inf\n",
      "23.0941223168\n",
      "-inf\n",
      "23.0546261763\n",
      "-inf\n",
      "23.1333513967\n",
      "-inf\n",
      "23.5380482265\n",
      "-inf\n",
      "24.0253434605\n",
      "-inf\n",
      "24.4077146493\n",
      "-inf\n",
      "24.8982822965\n",
      "-inf\n",
      "25.6279662471\n",
      "-inf\n",
      "26.3041346842\n",
      "-inf\n",
      "26.6597601298\n",
      "-inf\n",
      "26.7944832572\n",
      "-inf\n",
      "26.7925456029\n",
      "-inf\n",
      "26.5737203916\n",
      "-inf\n",
      "26.5517978099\n",
      "-inf\n",
      "26.540884115\n",
      "-inf\n",
      "26.4775342519\n",
      "-inf\n",
      "24.6629831885\n",
      "-inf\n",
      "26.1497776788\n",
      "-inf\n",
      "26.6945908398\n",
      "-inf\n",
      "27.0613550093\n",
      "-inf\n",
      "27.2127475041\n",
      "-inf\n"
     ]
    }
   ],
   "source": [
    "h_user_mean_cooc = dict()\n",
    "l_user_mean_cooc = dict()\n",
    "\n",
    "source_csv = '/home/shruvp5/ICWSM/tenplus/'\n",
    "years = [2016, 2017]\n",
    "for year in years:\n",
    "    for i in range(1, 13):\n",
    "        if i == 1:\n",
    "            csv1 = source_csv + str(year) + '_' + str('{:02d}'.format(i)) + '_final.csv'\n",
    "            csv2 = source_csv + str(year-1) + '_' + str('{:02d}'.format(12)) + '_final.csv'\n",
    "            csv3 = source_csv + str(year-1) + '_' + str('{:02d}'.format(11)) + '_final.csv'\n",
    "\n",
    "        elif i == 2:\n",
    "\n",
    "            csv1 = source_csv + str(year) + '_' + str('{:02d}'.format(i)) + '_final.csv'\n",
    "            csv2 = source_csv + str(year) + '_' + str('{:02d}'.format(i-1)) + '_final.csv'\n",
    "            csv3 = source_csv + str(year-1) + '_' + str('{:02d}'.format(12)) + '_final.csv'\n",
    "\n",
    "        else:\n",
    "            csv1 = source_csv + str(year) + '_' + str('{:02d}'.format(i)) + '_final.csv'\n",
    "            csv2 = source_csv + str(year) + '_' + str('{:02d}'.format(i-1)) + '_final.csv'\n",
    "            csv3 = source_csv + str(year) + '_' + str('{:02d}'.format(i-2)) + '_final.csv'\n",
    "\n",
    " \n",
    "        curr = pd.read_csv(csv1, header=None, names=['index', 'author', 'count'])\n",
    "        p1 = pd.read_csv(csv2, header=None, names=['index', 'author', 'count'])\n",
    "        p2 = pd.read_csv(csv3, header=None, names=['index', 'author', 'count'])\n",
    "        \n",
    "        curr_high = curr.loc[curr['count'] >= np.percentile(np.array(curr['count']), 75), 'author'].tolist()\n",
    "        curr_low = curr.loc[curr['count'] <= np.percentile(np.array(curr['count']), 25), 'author'].tolist()\n",
    "        \n",
    "        \n",
    "        #commented for calculating p-value\n",
    "        #h_recp = []\n",
    "        #l_recp = []\n",
    "        \n",
    "        \n",
    "        try:\n",
    "            p1_high = p1.loc[p1['count'] >= np.percentile(np.array(p1['count']), 75), 'author'].tolist()\n",
    "        except:\n",
    "            p1_high = []\n",
    "\n",
    "        \n",
    "        try:\n",
    "            p2_high = p2.loc[p2['count'] >= np.percentile(np.array(p2['count']), 75), 'author'].tolist()\n",
    "        except:\n",
    "            p2_high = []\n",
    "            \n",
    "            \n",
    "        past_high = list(set(p1_high).union(set(p2_high)))\n",
    "        \n",
    "        fname = '/home/shruvp5/ICWSM/ties/' + str(year) + '_' + str('{:02d}'.format(i)) + '.csv'\n",
    "        frame1 = pd.read_csv(fname, header=None, names=['author', 'subreddit', 'name', 'parent_id'])\n",
    "        frame = frame1.loc[frame1['author']!='AutoModerator']\n",
    "        \n",
    "        \n",
    "        # At this point we have a list of current high users as curr_high and current low users as curr_low and\n",
    "        # past high users as past_high\n",
    "        # Alongwith this we have a dataframe called frame which has comment history of all of these users in\n",
    "        # the two months prior to the month of considersation\n",
    "        \n",
    "        \n",
    "        user_cooc = frame[['author', 'subreddit']].copy()\n",
    "        user_cooc = user_cooc.drop_duplicates()\n",
    "        temp_file = './tempembed/' + str(year) + str(i) + '_userembedtemp.gz'\n",
    "        user_cooc.to_csv(temp_file, sep=',', compression='gzip')\n",
    "        dense_source = temp_file\n",
    "        \n",
    "           \n",
    "        \n",
    "        user_map = dict()\n",
    "        sub_map = dict()\n",
    "        user_idx = 0\n",
    "        sub_idx = 0\n",
    "        reverse_sub_map = dict()\n",
    "        p_sparse = defaultdict(lambda: Counter())\n",
    "        test_counter = 0\n",
    "        \n",
    "        # attention: reverse_sub map here is actually mapping user index to user name [not related to subs]\n",
    "        with gzip.open(dense_source, 'r') as gfile:\n",
    "            for line in gfile:\n",
    "                test_counter+=1\n",
    "                if test_counter==1:\n",
    "                    pass\n",
    "                pair = line.strip().split(',')\n",
    "                if pair[1] not in user_map:\n",
    "                    user_map[pair[1]] = user_idx\n",
    "                    reverse_sub_map[user_idx] = pair[1]\n",
    "                    user_idx +=1\n",
    "                if pair[2] not in sub_map:\n",
    "                    sub_map[pair[2]] = sub_idx\n",
    "                    sub_idx +=1\n",
    "                p_sparse[sub_map[pair[2]]][user_map[pair[1]]] +=1\n",
    "        \n",
    "\n",
    "        cooccurrences = Counter()\n",
    "        cooccurrences_arr, user_arr, sub_arr = zip(*[(count, user, sub) for sub, d in p_sparse.iteritems() for user, count in d.iteritems()])\n",
    "        cooccurrences = csr_matrix((np.ones_like(cooccurrences_arr), (user_arr, sub_arr)))\n",
    "        del cooccurrences_arr, sub_arr, user_arr\n",
    "        cooccurrences_square = cooccurrences.dot(cooccurrences.T)\n",
    "        cooccurrences_square\n",
    "        \n",
    "        cooccurrences_square = cooccurrences_square.todense()\n",
    "        pxy = cooccurrences_square/float(cooccurrences_square.sum())\n",
    "        px = py = pxy.sum(axis=0)\n",
    "        pmi = np.log2(np.divide(pxy, np.outer(px.T, py)))\n",
    "        ppmi = pmi.copy()\n",
    "        print np.max(np.max(pmi))\n",
    "        print np.min(np.min(pmi))\n",
    "        ppmi[ppmi < 0.] = 0.\n",
    "        #ppmi[math.isnan(ppmi)] = 0.\n",
    "        ppmi = np.nan_to_num(ppmi)\n",
    "\n",
    "        high_cooc = []\n",
    "        low_cooc = []\n",
    "\n",
    "        for i in range(ppmi.shape[0]):\n",
    "            if reverse_sub_map[i] in curr_high:\n",
    "                temparray =[]\n",
    "                for j in range(i, ppmi.shape[1]):\n",
    "                    if reverse_sub_map[j] in past_high:\n",
    "                        if ppmi[i, j] != float('NaN'):\n",
    "                            temparray.append(ppmi[i, j])\n",
    "                if np.mean(np.array(temparray)) >=0.:\n",
    "                    if reverse_sub_map[i] not in h_user_mean_cooc:\n",
    "                        h_user_mean_cooc[reverse_sub_map[i]] = np.mean(np.array(temparray))\n",
    "                    high_cooc.append(np.mean(np.array(temparray)))\n",
    "\n",
    "            elif reverse_sub_map[i] in curr_low:\n",
    "                temparray =[]\n",
    "                for j in range(i, ppmi.shape[1]):\n",
    "                    if reverse_sub_map[j] in past_high:\n",
    "                        if ppmi[i, j] != float('NaN'):\n",
    "                            temparray.append(ppmi[i, j])\n",
    "\n",
    "                if np.mean(np.array(temparray)) >=0.:\n",
    "                    if reverse_sub_map[i] not in l_user_mean_cooc:\n",
    "                        l_user_mean_cooc[reverse_sub_map[i]] = np.mean(np.array(temparray))\n",
    "                    low_cooc.append(np.mean(np.array(temparray)))\n",
    "\n",
    "        \n",
    "        \n"
   ]
  },
  {
   "cell_type": "markdown",
   "metadata": {},
   "source": [
    "sb.set(style=\"whitegrid\")\n",
    "sb.set(rc={'figure.figsize':(5,5)})\n",
    "sb.distplot(high_cooc, kde=False, rug=True)\n"
   ]
  },
  {
   "cell_type": "markdown",
   "metadata": {},
   "source": [
    "sb.set(style=\"whitegrid\")\n",
    "sb.set(rc={'figure.figsize':(5,5)})\n",
    "sb.distplot(low_cooc, kde=False, rug=True)\n"
   ]
  },
  {
   "cell_type": "markdown",
   "metadata": {},
   "source": [
    "print np.mean(high_cooc)\n",
    "print np.mean(low_cooc)"
   ]
  },
  {
   "cell_type": "code",
   "execution_count": 4,
   "metadata": {},
   "outputs": [
    {
     "name": "stdout",
     "output_type": "stream",
     "text": [
      "5606\n"
     ]
    }
   ],
   "source": [
    "print len(h_user_mean_cooc.values())"
   ]
  },
  {
   "cell_type": "code",
   "execution_count": 5,
   "metadata": {},
   "outputs": [
    {
     "name": "stdout",
     "output_type": "stream",
     "text": [
      "12337\n"
     ]
    }
   ],
   "source": [
    "print len(l_user_mean_cooc.values())"
   ]
  },
  {
   "cell_type": "code",
   "execution_count": 6,
   "metadata": {},
   "outputs": [],
   "source": [
    "all_scores = np.array(h_user_mean_cooc.values() + l_user_mean_cooc.values())"
   ]
  },
  {
   "cell_type": "code",
   "execution_count": 7,
   "metadata": {},
   "outputs": [
    {
     "name": "stdout",
     "output_type": "stream",
     "text": [
      "0.0\n",
      "5.52651460186\n",
      "0.312782637706\n",
      "0.313396507754\n"
     ]
    }
   ],
   "source": [
    "print all_scores.min()\n",
    "print all_scores.max()\n",
    "print all_scores.mean()\n",
    "print all_scores.std()"
   ]
  },
  {
   "cell_type": "code",
   "execution_count": 8,
   "metadata": {},
   "outputs": [],
   "source": [
    "import scipy\n",
    "from scipy import stats\n",
    "\n",
    "m, v, s, k = stats.t.stats(10, moments='mvsk')"
   ]
  },
  {
   "cell_type": "code",
   "execution_count": 9,
   "metadata": {},
   "outputs": [],
   "source": [
    "n, (smin, smax), sm, sv, ss, sk = stats.describe(all_scores)"
   ]
  },
  {
   "cell_type": "code",
   "execution_count": 10,
   "metadata": {},
   "outputs": [
    {
     "name": "stdout",
     "output_type": "stream",
     "text": [
      "t-statistic = 133.685 pvalue = 0.0000\n"
     ]
    }
   ],
   "source": [
    "print('t-statistic = %6.3f pvalue = %6.4f' %  stats.ttest_1samp(all_scores, m))"
   ]
  },
  {
   "cell_type": "code",
   "execution_count": 11,
   "metadata": {},
   "outputs": [],
   "source": [
    "with open('high_subcooc.csv', 'wb') as csv_file:\n",
    "    writer = csv.writer(csv_file)\n",
    "    for key, value in h_user_mean_cooc.items():\n",
    "        writer.writerow([key, value])\n"
   ]
  },
  {
   "cell_type": "code",
   "execution_count": null,
   "metadata": {},
   "outputs": [],
   "source": []
  },
  {
   "cell_type": "code",
   "execution_count": 12,
   "metadata": {},
   "outputs": [],
   "source": [
    "with open('low_subcooc.csv', 'wb') as csv_file:\n",
    "    writer = csv.writer(csv_file)\n",
    "    for key, value in l_user_mean_cooc.items():\n",
    "        writer.writerow([key, value])\n"
   ]
  },
  {
   "cell_type": "code",
   "execution_count": 13,
   "metadata": {},
   "outputs": [
    {
     "data": {
      "text/plain": [
       "<matplotlib.axes._subplots.AxesSubplot at 0x7f54095e6890>"
      ]
     },
     "execution_count": 13,
     "metadata": {},
     "output_type": "execute_result"
    },
    {
     "data": {
      "image/png": "[encoded data removed]",
      "text/plain": [
       "<Figure size 360x360 with 1 Axes>"
      ]
     },
     "metadata": {},
     "output_type": "display_data"
    }
   ],
   "source": [
    "sb.set(style=\"whitegrid\")\n",
    "sb.set(rc={'figure.figsize':(5,5)})\n",
    "sb.distplot(h_user_mean_cooc.values(), kde=False, rug=True)\n"
   ]
  },
  {
   "cell_type": "code",
   "execution_count": 18,
   "metadata": {},
   "outputs": [
    {
     "name": "stdout",
     "output_type": "stream",
     "text": [
      "0.0\n",
      "5.52651460186\n",
      "0.377986849117\n",
      "0.363104948416\n"
     ]
    }
   ],
   "source": [
    "print np.array(h_user_mean_cooc.values()).min()\n",
    "print np.array(h_user_mean_cooc.values()).max()\n",
    "print np.array(h_user_mean_cooc.values()).mean()\n",
    "print np.array(h_user_mean_cooc.values()).std()"
   ]
  },
  {
   "cell_type": "code",
   "execution_count": 16,
   "metadata": {},
   "outputs": [
    {
     "data": {
      "text/plain": [
       "<matplotlib.axes._subplots.AxesSubplot at 0x7f53fcb6c110>"
      ]
     },
     "execution_count": 16,
     "metadata": {},
     "output_type": "execute_result"
    },
    {
     "data": {
      "image/png": "[encoded data removed]",
      "text/plain": [
       "<Figure size 360x360 with 1 Axes>"
      ]
     },
     "metadata": {},
     "output_type": "display_data"
    }
   ],
   "source": [
    "from random import sample\n",
    "sb.set(style=\"whitegrid\")\n",
    "sb.set(rc={'figure.figsize':(5,5)})\n",
    "sb.distplot(random.sample(l_user_mean_cooc.values(), len(h_user_mean_cooc)), kde=False, rug=True)\n"
   ]
  },
  {
   "cell_type": "code",
   "execution_count": 19,
   "metadata": {},
   "outputs": [
    {
     "name": "stdout",
     "output_type": "stream",
     "text": [
      "0.0\n",
      "3.11011712357\n",
      "0.283153488872\n",
      "0.283066898578\n"
     ]
    }
   ],
   "source": [
    "print np.array(l_user_mean_cooc.values()).min()\n",
    "print np.array(l_user_mean_cooc.values()).max()\n",
    "print np.array(l_user_mean_cooc.values()).mean()\n",
    "print np.array(l_user_mean_cooc.values()).std()"
   ]
  },
  {
   "cell_type": "code",
   "execution_count": null,
   "metadata": {},
   "outputs": [],
   "source": []
  }
 ],
 "metadata": {
  "kernelspec": {
   "display_name": "Python 2",
   "language": "python",
   "name": "python2"
  },
  "language_info": {
   "codemirror_mode": {
    "name": "ipython",
    "version": 2
   },
   "file_extension": ".py",
   "mimetype": "text/x-python",
   "name": "python",
   "nbconvert_exporter": "python",
   "pygments_lexer": "ipython2",
   "version": "2.7.12"
  }
 },
 "nbformat": 4,
 "nbformat_minor": 2
}
