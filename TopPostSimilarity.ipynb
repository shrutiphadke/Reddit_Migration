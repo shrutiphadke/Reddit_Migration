{
 "cells": [
  {
   "cell_type": "code",
   "execution_count": 1,
   "metadata": {},
   "outputs": [],
   "source": [
    "import csv, json\n",
    "from collections import defaultdict\n",
    "import matplotlib.pyplot as plt\n",
    "import pandas as pd\n",
    "import numpy as np\n",
    "import re\n",
    "import gensim\n",
    "from nltk.corpus import stopwords\n",
    "stopset = set(stopwords.words('english'))\n",
    "from nltk.tokenize import word_tokenize\n"
   ]
  },
  {
   "cell_type": "code",
   "execution_count": 2,
   "metadata": {},
   "outputs": [],
   "source": [
    "post_feat = pd.read_csv('./top_200.gzip', compression='gzip', header=0)"
   ]
  },
  {
   "cell_type": "code",
   "execution_count": 3,
   "metadata": {},
   "outputs": [
    {
     "name": "stdout",
     "output_type": "stream",
     "text": [
      "true\n"
     ]
    }
   ],
   "source": [
    "sub_list = np.unique(post_feat['subreddit'].tolist())\n",
    "if 'conspiracy' in sub_list:\n",
    "    print \"true\""
   ]
  },
  {
   "cell_type": "code",
   "execution_count": 4,
   "metadata": {},
   "outputs": [
    {
     "name": "stdout",
     "output_type": "stream",
     "text": [
      "38146\n"
     ]
    }
   ],
   "source": [
    "print len(sub_list)"
   ]
  },
  {
   "cell_type": "code",
   "execution_count": 5,
   "metadata": {},
   "outputs": [],
   "source": [
    "raw = []\n",
    "for sub in sub_list:\n",
    "    #print sub\n",
    "    corpus = post_feat.loc[post_feat['subreddit']==sub, 'title']\n",
    "    corp = \" \".join(map(str, corpus))\n",
    "    corp = re.sub('[^A-Za-z .-]+', '', corp)\n",
    "    corp = corp.replace('-', '')\n",
    "    corp = corp.replace('…', '')\n",
    "    corp = corp.replace('.', '')\n",
    "    corp = corp.replace('...', '')\n",
    "    corp = corp.replace('..x', '')\n",
    "\n",
    "    raw.append(corp.decode('ascii', 'ignore').encode('ascii'))\n"
   ]
  },
  {
   "cell_type": "code",
   "execution_count": 6,
   "metadata": {},
   "outputs": [
    {
     "name": "stdout",
     "output_type": "stream",
     "text": [
      "Number of documents 38146\n"
     ]
    }
   ],
   "source": [
    "print \"Number of documents\", len(raw)"
   ]
  },
  {
   "cell_type": "code",
   "execution_count": 7,
   "metadata": {},
   "outputs": [],
   "source": [
    "gen_docs = [[w.lower() for w in word_tokenize(text) if not w in stopwords.words('english')] \n",
    "            for text in raw]\n",
    "#print(gen_docs)"
   ]
  },
  {
   "cell_type": "code",
   "execution_count": 8,
   "metadata": {},
   "outputs": [
    {
     "name": "stdout",
     "output_type": "stream",
     "text": [
      "adventures\n",
      "2703\n",
      "('Number of words in dictionary:', 958121)\n"
     ]
    }
   ],
   "source": [
    "dictionary = gensim.corpora.Dictionary(gen_docs)\n",
    "print(dictionary[5])\n",
    "print(dictionary.token2id['road'])\n",
    "print(\"Number of words in dictionary:\",len(dictionary))\n",
    "#for i in range(len(dictionary)):\n",
    "#    print(i, dictionary[i])"
   ]
  },
  {
   "cell_type": "code",
   "execution_count": 9,
   "metadata": {},
   "outputs": [],
   "source": [
    "rcorpus = [dictionary.doc2bow(gen_doc) for gen_doc in gen_docs]\n",
    "#print(rcorpus)"
   ]
  },
  {
   "cell_type": "code",
   "execution_count": 10,
   "metadata": {},
   "outputs": [
    {
     "name": "stdout",
     "output_type": "stream",
     "text": [
      "TfidfModel(num_docs=38146, num_nnz=18341690)\n",
      "18341690\n"
     ]
    }
   ],
   "source": [
    "tf_idf = gensim.models.TfidfModel(rcorpus)\n",
    "print(tf_idf)\n",
    "s = 0\n",
    "for i in rcorpus:\n",
    "    s += len(i)\n",
    "print(s)"
   ]
  },
  {
   "cell_type": "code",
   "execution_count": 11,
   "metadata": {
    "scrolled": true
   },
   "outputs": [
    {
     "name": "stdout",
     "output_type": "stream",
     "text": [
      "Similarity index with 38146 documents in 1 shards (stored under ./)\n",
      "<class 'gensim.similarities.docsim.Similarity'>\n"
     ]
    }
   ],
   "source": [
    "sims = gensim.similarities.Similarity('./',tf_idf[rcorpus],\n",
    "                                      num_features=len(dictionary))\n",
    "print(sims)\n",
    "print(type(sims))"
   ]
  },
  {
   "cell_type": "code",
   "execution_count": 12,
   "metadata": {},
   "outputs": [
    {
     "data": {
      "text/plain": [
       "38146"
      ]
     },
     "execution_count": 12,
     "metadata": {},
     "output_type": "execute_result"
    }
   ],
   "source": [
    "len(sims)"
   ]
  },
  {
   "cell_type": "code",
   "execution_count": 13,
   "metadata": {},
   "outputs": [],
   "source": [
    "consp_ind = list(sub_list).index('conspiracy')"
   ]
  },
  {
   "cell_type": "code",
   "execution_count": 14,
   "metadata": {},
   "outputs": [
    {
     "name": "stdout",
     "output_type": "stream",
     "text": [
      "24229\n"
     ]
    }
   ],
   "source": [
    "print consp_ind"
   ]
  },
  {
   "cell_type": "code",
   "execution_count": 15,
   "metadata": {},
   "outputs": [],
   "source": [
    "for item in list(enumerate(sims)):\n",
    "    if item[0]==consp_ind:\n",
    "        consp_sim= item[1]"
   ]
  },
  {
   "cell_type": "code",
   "execution_count": 16,
   "metadata": {},
   "outputs": [],
   "source": [
    "indices = np.argsort(consp_sim)"
   ]
  },
  {
   "cell_type": "code",
   "execution_count": 17,
   "metadata": {},
   "outputs": [],
   "source": [
    "top_20 = []\n",
    "\n",
    "\n",
    "wfile = open('similarity_score.csv', 'w')\n",
    "\n",
    "for i in range(1, len(indices)):\n",
    "    top_20.append(indices[len(indices)-i])\n",
    "    \n",
    "for i in range(len(indices)-1):\n",
    "    #print i\n",
    "    towrite = sub_list[top_20[i]] + ',' + str(consp_sim[top_20[i]]) + '\\n'\n",
    "    wfile.write(towrite)\n",
    "    \n",
    "wfile.close()\n"
   ]
  },
  {
   "cell_type": "code",
   "execution_count": null,
   "metadata": {},
   "outputs": [],
   "source": []
  },
  {
   "cell_type": "code",
   "execution_count": null,
   "metadata": {},
   "outputs": [],
   "source": []
  }
 ],
 "metadata": {
  "kernelspec": {
   "display_name": "Python 2",
   "language": "python",
   "name": "python2"
  },
  "language_info": {
   "codemirror_mode": {
    "name": "ipython",
    "version": 2
   },
   "file_extension": ".py",
   "mimetype": "text/x-python",
   "name": "python",
   "nbconvert_exporter": "python",
   "pygments_lexer": "ipython2",
   "version": "2.7.12"
  }
 },
 "nbformat": 4,
 "nbformat_minor": 2
}
