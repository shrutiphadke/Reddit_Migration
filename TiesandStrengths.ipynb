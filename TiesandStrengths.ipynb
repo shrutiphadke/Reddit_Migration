{
 "cells": [
  {
   "cell_type": "code",
   "execution_count": 1,
   "metadata": {},
   "outputs": [],
   "source": [
    "import json, csv, gzip\n",
    "import pandas as pd\n",
    "from collections import defaultdict\n",
    "from collections import Counter"
   ]
  },
  {
   "cell_type": "code",
   "execution_count": 2,
   "metadata": {},
   "outputs": [],
   "source": [
    "high_auths = pd.read_csv('./high.csv', header=0)\n",
    "high_authors = set(high_auths['author'].tolist())\n",
    "\n",
    "low_auths = pd.read_csv('./low.csv', header=0)\n",
    "low_authors = set(low_auths['author'].tolist())\n"
   ]
  },
  {
   "cell_type": "markdown",
   "metadata": {},
   "source": [
    "### Read first CSV to initiate dictionaries"
   ]
  },
  {
   "cell_type": "code",
   "execution_count": 3,
   "metadata": {},
   "outputs": [],
   "source": [
    "frame1 = pd.read_csv('./ties/2016_01.csv', header=None, names=['author', 'subreddit', 'name', 'parent_id'])\n",
    "frame = frame1.loc[frame1['author']!='AutoModerator']\n",
    "nameset = set(frame['name'].tolist())\n",
    "parentset = set(frame['parent_id'].tolist())\n",
    "ids = nameset.intersection(parentset)\n",
    "Fcomments = frame[['author', 'name']]\n",
    "Frelation = frame[['name', 'parent_id']]\n",
    "comments = Fcomments.set_index('name').to_dict()['author']\n",
    "relation = Frelation.set_index('parent_id').to_dict()['name']\n",
    "#parent = Fparent.set_index('name').to_dict()['author']"
   ]
  },
  {
   "cell_type": "markdown",
   "metadata": {},
   "source": [
    "#testcell\n",
    "d = {1: \"one\", 2: \"three\"}\n",
    "d1 = {3: \"two\"}\n",
    "\n",
    "# updates the value of key 2\n",
    "d.update(d1)\n",
    "print(d)\n",
    "\n",
    "d1 = {3: \"three\"}\n",
    "\n",
    "# adds element with key 3\n",
    "d.update(d1)\n",
    "print(d)"
   ]
  },
  {
   "cell_type": "markdown",
   "metadata": {},
   "source": [
    "#### Read CSV as pandas"
   ]
  },
  {
   "cell_type": "code",
   "execution_count": 4,
   "metadata": {},
   "outputs": [
    {
     "name": "stdout",
     "output_type": "stream",
     "text": [
      "Dictionary sizes:  367166 327819\n",
      "Dictionary sizes:  681224 608739\n",
      "Dictionary sizes:  995899 890565\n",
      "Dictionary sizes:  1302516 1165255\n",
      "Dictionary sizes:  1602691 1433832\n",
      "Dictionary sizes:  1912384 1712754\n",
      "Dictionary sizes:  2297993 2060240\n",
      "Dictionary sizes:  2760972 2468101\n",
      "Dictionary sizes:  3250439 2899131\n",
      "Dictionary sizes:  3877674 3440326\n",
      "Dictionary sizes:  4680504 4121558\n"
     ]
    }
   ],
   "source": [
    "#comments = dict()\n",
    "#relation = dict()\n",
    "\n",
    "years = [2016]\n",
    "for year in years:\n",
    "    for month in range(2,13):\n",
    "        print \"Dictionary sizes: \", len(comments), len(relation)\n",
    "        fname = './ties/' + str(year) + '_' + str('{:02d}'.format(month)) + '.csv'\n",
    "        frame1 = pd.read_csv(fname, header=None, names=['author', 'subreddit', 'name', 'parent_id'])\n",
    "        frame = frame1.loc[frame1['author']!='AutoModerator']\n",
    "        nameset = set(frame['name'].tolist())\n",
    "        parentset = set(frame['parent_id'].tolist())\n",
    "\n",
    "        ids = ids.union(nameset.intersection(parentset))\n",
    "        Fcomments = frame[['author', 'name']]\n",
    "        Frelation = frame[['name', 'parent_id']]\n",
    "        comments.update(Fcomments.set_index('name').to_dict()['author'])\n",
    "        relation.update(Frelation.set_index('parent_id').to_dict()['name'])\n",
    "        \n"
   ]
  },
  {
   "cell_type": "code",
   "execution_count": 5,
   "metadata": {},
   "outputs": [
    {
     "name": "stdout",
     "output_type": "stream",
     "text": [
      "Dictionary sizes:  5646736 4925025\n",
      "Dictionary sizes:  6686796 5804848\n",
      "Dictionary sizes:  7837350 6770010\n",
      "Dictionary sizes:  8854297 7612693\n",
      "Dictionary sizes:  9834377 8435969\n",
      "Dictionary sizes:  10815811 9264346\n",
      "Dictionary sizes:  11863538 10137755\n",
      "Dictionary sizes:  12913986 11031139\n",
      "Dictionary sizes:  13479839 11556235\n",
      "Dictionary sizes:  14765500 12616296\n",
      "Dictionary sizes:  16010966 13696333\n",
      "Dictionary sizes:  17338485 14805090\n"
     ]
    }
   ],
   "source": [
    "years = [2017]\n",
    "for year in years:\n",
    "    for month in range(1,13):\n",
    "        print \"Dictionary sizes: \", len(comments), len(relation)\n",
    "        fname = './ties/' + str(year) + '_' + str('{:02d}'.format(month)) + '.csv'\n",
    "        frame1 = pd.read_csv(fname, header=None, names=['author', 'subreddit', 'name', 'parent_id'])\n",
    "        frame = frame1.loc[frame1['author']!='AutoModerator']\n",
    "        nameset = set(frame['name'].tolist())\n",
    "        parentset = set(frame['parent_id'].tolist())\n",
    "        ids = ids.union(nameset.intersection(parentset))\n",
    "        #ids = nameset.intersection(parentset)\n",
    "        Fcomments = frame[['author', 'name']]\n",
    "        Frelation = frame[['name', 'parent_id']]\n",
    "        comments.update(Fcomments.set_index('name').to_dict()['author'])\n",
    "        relation.update(Frelation.set_index('parent_id').to_dict()['name'])\n"
   ]
  },
  {
   "cell_type": "code",
   "execution_count": 6,
   "metadata": {},
   "outputs": [],
   "source": [
    "import networkx as nx\n",
    "D = nx.DiGraph()"
   ]
  },
  {
   "cell_type": "code",
   "execution_count": 7,
   "metadata": {},
   "outputs": [],
   "source": [
    "#ids = comments.keys()"
   ]
  },
  {
   "cell_type": "code",
   "execution_count": 42,
   "metadata": {},
   "outputs": [],
   "source": [
    "edgelist = []\n",
    "for interaction_id in ids:\n",
    "    replier = comments[interaction_id]\n",
    "    author = comments[relation[interaction_id]]\n",
    "    #edgelist.append((author, replier))\n",
    "    if replier in high_authors or author in high_authors:\n",
    "        D.add_edge(replier, author, color='red')\n",
    "    elif replier in low_authors or author in low_authors:\n",
    "        D.add_edge(replier, author, color='green')\n",
    "    else:\n",
    "        D.add_edge(replier, author, color='blue')\n",
    "        \n",
    "    #print author, ', ', replier"
   ]
  },
  {
   "cell_type": "markdown",
   "metadata": {},
   "source": [
    "#H = nx.DiGraph(G)\n",
    "from networkx.drawing.nx_agraph import graphviz_layout\n",
    "import holoviews as hv\n",
    "\n",
    "#hv.extension('bokeh')\n",
    "\n",
    "#%opts Graph [width=1000 height=1000]\n",
    "'''\n",
    "a_names = list(G.nodes)\n",
    "#G.nodes[a_names[0]]['color'] = 'blue'\n",
    "\n",
    "for name in a_names:\n",
    "    if name in high_authors:\n",
    "        G.nodes[name]['color'] = 'blue'\n",
    "        #print \"high\"\n",
    "    elif name in low_authors:\n",
    "        G.nodes[name]['color'] = 'green'\n",
    "    else:\n",
    "        G.nodes[name]['color'] = 'red'\n",
    "        G.nodes[name]['alpha'] = 1\n",
    "        G.nodes[name]['size'] = 1\n",
    "        \n",
    "color_map = []\n",
    "Gnodes = list(G.nodes)\n",
    "for i in range(len(Gnodes)):\n",
    "    if Gnodes[i] in high_authors:\n",
    "        \n",
    "        G.nodes[i]['color'] = 'blue'\n",
    "    elif Gnodes[i] in low_authors:\n",
    "        #n = G.get_node(node)\n",
    "        G.nodes[i]['color'] = 'green'\n",
    "    else:\n",
    "        #n = G.get_node(node)\n",
    "        G.nodes[i]['color'] = 'grey'\n",
    "\n",
    "'''\n",
    "\n",
    "\n",
    "'''\n",
    "'''\n",
    "padding = dict(x=(-1.2, 1.2), y=(-1.2, 1.2))\n",
    "\n",
    "hv.Graph.from_networkx(D, nx.layout.random_layout)#.redim.range(**padding)\n"
   ]
  },
  {
   "cell_type": "markdown",
   "metadata": {},
   "source": [
    "%matplotlib inline\n",
    "\n",
    "import matplotlib.pyplot as plt\n",
    "\n",
    "plt.figure(1,figsize=(100,100)) \n",
    "#%matplotlib\n",
    "nx.draw(D,with_labels = True, node_size=10,font_size=6, alpha=0.6)\n",
    "#plt.show()"
   ]
  },
  {
   "cell_type": "markdown",
   "metadata": {},
   "source": [
    "### Network Algorithms"
   ]
  },
  {
   "cell_type": "code",
   "execution_count": 44,
   "metadata": {},
   "outputs": [],
   "source": [
    "from networkx.algorithms.reciprocity import reciprocity"
   ]
  },
  {
   "cell_type": "code",
   "execution_count": 45,
   "metadata": {},
   "outputs": [],
   "source": [
    "high_network = set(high_authors).union(set(D.nodes).difference(set(low_authors)))\n",
    "low_network = set(low_authors).union(set(D.nodes).difference(set(high_authors)))"
   ]
  },
  {
   "cell_type": "code",
   "execution_count": 46,
   "metadata": {},
   "outputs": [],
   "source": [
    "high_recp = reciprocity(D, high_network)"
   ]
  },
  {
   "cell_type": "code",
   "execution_count": 47,
   "metadata": {},
   "outputs": [],
   "source": [
    "low_recp = reciprocity(D, low_network)"
   ]
  },
  {
   "cell_type": "code",
   "execution_count": null,
   "metadata": {},
   "outputs": [],
   "source": []
  },
  {
   "cell_type": "code",
   "execution_count": null,
   "metadata": {},
   "outputs": [],
   "source": []
  },
  {
   "cell_type": "code",
   "execution_count": 48,
   "metadata": {},
   "outputs": [],
   "source": [
    "h_recp = []\n",
    "l_recp = []\n",
    "for author in high_authors:\n",
    "    try:\n",
    "        h_recp.append(high_recp[author])\n",
    "    except:\n",
    "        pass\n",
    "\n",
    "for author in low_authors:\n",
    "    try:\n",
    "        l_recp.append(low_recp[author])\n",
    "    except:\n",
    "        pass\n",
    "    "
   ]
  },
  {
   "cell_type": "code",
   "execution_count": 49,
   "metadata": {},
   "outputs": [
    {
     "data": {
      "text/plain": [
       "<matplotlib.axes._subplots.AxesSubplot at 0x7f29a0c87a90>"
      ]
     },
     "execution_count": 49,
     "metadata": {},
     "output_type": "execute_result"
    },
    {
     "data": {
      "image/png": "[encoded data removed]",
      "text/plain": [
       "<Figure size 1080x360 with 1 Axes>"
      ]
     },
     "metadata": {},
     "output_type": "display_data"
    }
   ],
   "source": [
    "import seaborn as sb\n",
    "import matplotlib.pyplot as plt\n",
    "sb.set(style=\"whitegrid\")\n",
    "sb.set(rc={'figure.figsize':(15,5)})\n",
    "sb.distplot(h_recp, kde=False, rug=True)"
   ]
  },
  {
   "cell_type": "code",
   "execution_count": 50,
   "metadata": {},
   "outputs": [
    {
     "data": {
      "text/plain": [
       "<matplotlib.axes._subplots.AxesSubplot at 0x7f28072bbb90>"
      ]
     },
     "execution_count": 50,
     "metadata": {},
     "output_type": "execute_result"
    },
    {
     "data": {
      "image/png": "[encoded data removed]",
      "text/plain": [
       "<Figure size 1080x360 with 1 Axes>"
      ]
     },
     "metadata": {},
     "output_type": "display_data"
    }
   ],
   "source": [
    "sb.set(style=\"whitegrid\")\n",
    "sb.set(rc={'figure.figsize':(15,5)})\n",
    "sb.distplot(l_recp, kde=False, rug=True)"
   ]
  },
  {
   "cell_type": "code",
   "execution_count": 51,
   "metadata": {},
   "outputs": [
    {
     "name": "stdout",
     "output_type": "stream",
     "text": [
      "0.545314543787\n"
     ]
    }
   ],
   "source": [
    "import numpy as np\n",
    "print np.mean(h_recp)"
   ]
  },
  {
   "cell_type": "code",
   "execution_count": 52,
   "metadata": {},
   "outputs": [
    {
     "name": "stdout",
     "output_type": "stream",
     "text": [
      "0.513271035379\n"
     ]
    }
   ],
   "source": [
    "print np.mean(l_recp)"
   ]
  },
  {
   "cell_type": "code",
   "execution_count": null,
   "metadata": {},
   "outputs": [],
   "source": []
  }
 ],
 "metadata": {
  "kernelspec": {
   "display_name": "Python 2",
   "language": "python",
   "name": "python2"
  },
  "language_info": {
   "codemirror_mode": {
    "name": "ipython",
    "version": 2
   },
   "file_extension": ".py",
   "mimetype": "text/x-python",
   "name": "python",
   "nbconvert_exporter": "python",
   "pygments_lexer": "ipython2",
   "version": "2.7.12"
  }
 },
 "nbformat": 4,
 "nbformat_minor": 2
}
